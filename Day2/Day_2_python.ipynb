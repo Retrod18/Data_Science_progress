{
 "cells": [
  {
   "cell_type": "code",
   "execution_count": 21,
   "id": "7fc1352b-b28b-47cd-a5ed-47deafa3816e",
   "metadata": {},
   "outputs": [
    {
     "ename": "IndentationError",
     "evalue": "unexpected indent (2738386966.py, line 6)",
     "output_type": "error",
     "traceback": [
      "\u001b[1;36m  Cell \u001b[1;32mIn[21], line 6\u001b[1;36m\u001b[0m\n\u001b[1;33m    return word\u001b[0m\n\u001b[1;37m    ^\u001b[0m\n\u001b[1;31mIndentationError\u001b[0m\u001b[1;31m:\u001b[0m unexpected indent\n"
     ]
    }
   ],
   "source": [
    "def check_palindrome(word):\n",
    " if a==a[::-1]:\n",
    "  print('palindrome')\n",
    " else:\n",
    "  print(f'{a}is not a palindrome')\n",
    "    return word"
   ]
  },
  {
   "cell_type": "code",
   "execution_count": 3,
   "id": "65aa15cc-e263-44f9-b462-dfadad281072",
   "metadata": {},
   "outputs": [
    {
     "data": {
      "text/plain": [
       "'dhruv'"
      ]
     },
     "execution_count": 3,
     "metadata": {},
     "output_type": "execute_result"
    }
   ],
   "source": [
    "check_palindrome('dhruv')"
   ]
  },
  {
   "cell_type": "code",
   "execution_count": 7,
   "id": "197d5cce-e1d3-4e59-be71-e24dc106e428",
   "metadata": {},
   "outputs": [
    {
     "data": {
      "text/plain": [
       "'ykcul'"
      ]
     },
     "execution_count": 7,
     "metadata": {},
     "output_type": "execute_result"
    }
   ],
   "source": [
    "a='lucky'\n",
    "a[::-1]\n"
   ]
  },
  {
   "cell_type": "code",
   "execution_count": 10,
   "id": "a290a347-8da2-4bfc-87f8-b33a9d4e834b",
   "metadata": {},
   "outputs": [
    {
     "name": "stdout",
     "output_type": "stream",
     "text": [
      "luckyis not a palindrome\n"
     ]
    }
   ],
   "source": [
    "if a==a[::-1]:\n",
    " print('palindrome')\n",
    "else:\n",
    " print(f'{a}is not a palindrome')"
   ]
  },
  {
   "cell_type": "code",
   "execution_count": 31,
   "id": "65cf8415-85e5-40ea-af31-629be1a5fcbc",
   "metadata": {},
   "outputs": [
    {
     "name": "stdout",
     "output_type": "stream",
     "text": [
      "RADAR is a palindrome\n",
      "invalid data type\n",
      "HELLO is not a palindrome\n"
     ]
    }
   ],
   "source": [
    "def check_palindrome(word):\n",
    " if type(word)==str: \n",
    "    word = word.upper()\n",
    "    \n",
    "    \n",
    "    if word == word[::-1]:\n",
    "        return word + \" is a palindrome\"\n",
    "    else:\n",
    "        return word + \" is not a palindrome\"\n",
    " else:\n",
    "     return'invalid data type'\n",
    "print(check_palindrome(\"radar\"))\n",
    "print(check_palindrome(123))  \n",
    "print(check_palindrome(\"hello\"))"
   ]
  },
  {
   "cell_type": "code",
   "execution_count": 25,
   "id": "5b93eb8e-2657-46e7-9097-ef790e704950",
   "metadata": {},
   "outputs": [
    {
     "data": {
      "text/plain": [
       "'DHRUV is not a palindrome'"
      ]
     },
     "execution_count": 25,
     "metadata": {},
     "output_type": "execute_result"
    }
   ],
   "source": [
    "check_palindrome('dhruv')"
   ]
  },
  {
   "cell_type": "code",
   "execution_count": 38,
   "id": "a4c3d5fe-a504-4bfa-a1c6-b05da9c4a106",
   "metadata": {},
   "outputs": [
    {
     "data": {
      "text/plain": [
       "[0, 1, 1, 2, 3]"
      ]
     },
     "execution_count": 38,
     "metadata": {},
     "output_type": "execute_result"
    }
   ],
   "source": [
    "def give_fibo(n):\n",
    "    fibo=[0,1]\n",
    "    for i in range(n-2):\n",
    "        last_num=fibo[-1]\n",
    "        second_last_num=fibo[-2]\n",
    "        next_num=last_num +second_last_num\n",
    "        fibo.append(next_num)\n",
    "    return fibo\n",
    "give_fibo(5)                  "
   ]
  },
  {
   "cell_type": "code",
   "execution_count": 47,
   "id": "1713e9ff-7dcc-4f26-95f4-7ca02fb17195",
   "metadata": {},
   "outputs": [
    {
     "data": {
      "text/plain": [
       "'prime'"
      ]
     },
     "execution_count": 47,
     "metadata": {},
     "output_type": "execute_result"
    }
   ],
   "source": [
    "def check_prime(number):\n",
    "    for i in range(2,number):\n",
    "        if number % i==0:\n",
    "            return 'not a prime no.'\n",
    "            break\n",
    "    else:\n",
    "        return 'prime'\n",
    "check_prime(3)"
   ]
  },
  {
   "cell_type": "code",
   "execution_count": 50,
   "id": "ae41d0d6-b5a4-41a7-8455-1893b3b4642d",
   "metadata": {},
   "outputs": [
    {
     "name": "stdout",
     "output_type": "stream",
     "text": [
      "hellohellohellohellohello\n"
     ]
    }
   ],
   "source": [
    "n=5.0\n",
    "print('hello'*int(n))"
   ]
  },
  {
   "cell_type": "markdown",
   "id": "fa95ef70-f78f-4667-9110-91cd4a1358e1",
   "metadata": {},
   "source": [
    "n=5\n",
    "for i in range(n):\n",
    "print(n)\n"
   ]
  },
  {
   "cell_type": "code",
   "execution_count": 57,
   "id": "da6d5e3a-37c1-49fb-825e-68bc5ba63a7d",
   "metadata": {},
   "outputs": [
    {
     "name": "stdout",
     "output_type": "stream",
     "text": [
      "* \n",
      "* * \n",
      "* * * \n",
      "* * * * \n",
      "* * * * * \n"
     ]
    }
   ],
   "source": [
    "n=5 \n",
    "for i in range(1,n+1): \n",
    "    print(i*'* ')"
   ]
  },
  {
   "cell_type": "code",
   "execution_count": 68,
   "id": "f157765d-ce85-4b6a-b391-3ad7bb4f27ce",
   "metadata": {},
   "outputs": [
    {
     "name": "stdout",
     "output_type": "stream",
     "text": [
      "    * \n",
      "   * * \n",
      "  * * * \n",
      " * * * * \n",
      "* * * * * \n"
     ]
    }
   ],
   "source": [
    "n=5 \n",
    "for i in range(1,n+1): \n",
    "    print(' '*(n-i)+i*'* ')"
   ]
  },
  {
   "cell_type": "code",
   "execution_count": 86,
   "id": "5cbf16a5-07eb-461f-abfc-ae70ac016a99",
   "metadata": {},
   "outputs": [
    {
     "name": "stdout",
     "output_type": "stream",
     "text": [
      "        # \n",
      "      # # \n",
      "    # # # \n",
      "  # # # # \n",
      "# # # # # \n"
     ]
    }
   ],
   "source": [
    "def print_star(n=5,typ='left',shape='*'): \n",
    "    if typ=='left':\n",
    "        space=''\n",
    "    if typ=='right':\n",
    "        space='  '\n",
    "    if typ=='center':\n",
    "        space=' '\n",
    "    for i in range(1,n+1): \n",
    "        print(space*(n-i)+i*f'{shape} ')\n",
    "print_star(5,'right','#')    "
   ]
  },
  {
   "cell_type": "code",
   "execution_count": 90,
   "id": "7f4b062f-88d9-48a9-8c5e-1175f33fe1d4",
   "metadata": {},
   "outputs": [
    {
     "data": {
      "text/plain": [
       "55"
      ]
     },
     "execution_count": 90,
     "metadata": {},
     "output_type": "execute_result"
    }
   ],
   "source": [
    " def sum_of_n_natural_num(n):\n",
    "     result=0\n",
    "     for i in range(1,n+1):\n",
    "         result+=i\n",
    "     return result\n",
    "sum_of_n_natural_num(10)"
   ]
  },
  {
   "cell_type": "code",
   "execution_count": 5,
   "id": "d29c4240-274c-4048-ac47-ff9cbb46e5e4",
   "metadata": {},
   "outputs": [
    {
     "data": {
      "text/plain": [
       "3628800"
      ]
     },
     "execution_count": 5,
     "metadata": {},
     "output_type": "execute_result"
    }
   ],
   "source": [
    "def factorial(n):\n",
    "    result=1\n",
    "    for i in range(1,n+1):\n",
    "        result*=i\n",
    "    return result\n",
    "factorial(10)\n"
   ]
  },
  {
   "cell_type": "code",
   "execution_count": 13,
   "id": "dd36f0d5-fe00-45fb-b39d-6d1c8e08f6ff",
   "metadata": {},
   "outputs": [
    {
     "data": {
      "text/plain": [
       "50"
      ]
     },
     "execution_count": 13,
     "metadata": {},
     "output_type": "execute_result"
    }
   ],
   "source": [
    "def total_sales(*args):\n",
    "    #unpacking\n",
    "    result=0\n",
    "    for i in args:\n",
    "        result+=i\n",
    "     return result\n",
    "   \n",
    "total_sales(1,2,3,44)"
   ]
  },
  {
   "cell_type": "code",
   "execution_count": 35,
   "id": "11efff87-e98d-44a9-b7a7-edf7647b469a",
   "metadata": {},
   "outputs": [
    {
     "name": "stdout",
     "output_type": "stream",
     "text": [
      "2\n"
     ]
    }
   ],
   "source": [
    "sales = [223, 445, 33, 444, 54, 2]  \n",
    "min_element = sales[0]            \n",
    "\n",
    "for i in sales[1:]:                \n",
    "    if i < min_element:            \n",
    "        min_element = i           \n",
    "print(min_element)        \n"
   ]
  },
  {
   "cell_type": "code",
   "execution_count": 36,
   "id": "edf6f308-f008-4f99-95f3-ebd4a7ec408b",
   "metadata": {},
   "outputs": [
    {
     "name": "stdout",
     "output_type": "stream",
     "text": [
      "445\n"
     ]
    }
   ],
   "source": [
    "sales = [223, 445, 33, 444, 54, 2]  \n",
    "max_element = sales[0]            \n",
    "\n",
    "for i in sales[1:]:                \n",
    "    if i > max_element:            \n",
    "        max_element = i           \n",
    "print(min_element)   "
   ]
  },
  {
   "cell_type": "code",
   "execution_count": 43,
   "id": "90e4fa4d-058e-4c8a-bbc6-1386ddbc874d",
   "metadata": {},
   "outputs": [
    {
     "name": "stdout",
     "output_type": "stream",
     "text": [
      "445\n"
     ]
    }
   ],
   "source": [
    "def minn(data):\n",
    "\n",
    "\n",
    "    min_ele = data[0]\n",
    "    for i in data[1:]:\n",
    "        if i > min_ele:\n",
    "            min_ele = i\n",
    "    return min_ele\n",
    "\n",
    "\n",
    "print(minn([223, 445, 33, 444, 54, 2]))\n",
    "\n"
   ]
  },
  {
   "cell_type": "code",
   "execution_count": 47,
   "id": "066b5a4f-8c71-4778-82be-f3712fe52e75",
   "metadata": {},
   "outputs": [
    {
     "data": {
      "text/plain": [
       "['#OLA', '#UBER', '#AMAZON']"
      ]
     },
     "execution_count": 47,
     "metadata": {},
     "output_type": "execute_result"
    }
   ],
   "source": [
    "company=['ola','uber','amazon']\n",
    "def add_hastag(*company):\n",
    "    result=[]\n",
    "    for i in company:\n",
    "        result.append('#'+i.upper())\n",
    "    return result\n",
    "add_hastag(*company)\n"
   ]
  },
  {
   "cell_type": "code",
   "execution_count": 57,
   "id": "2e0dd1fe-91c4-4237-bd42-3d0b806b74c7",
   "metadata": {},
   "outputs": [
    {
     "data": {
      "text/html": [
       "<div>\n",
       "<style scoped>\n",
       "    .dataframe tbody tr th:only-of-type {\n",
       "        vertical-align: middle;\n",
       "    }\n",
       "\n",
       "    .dataframe tbody tr th {\n",
       "        vertical-align: top;\n",
       "    }\n",
       "\n",
       "    .dataframe thead th {\n",
       "        text-align: right;\n",
       "    }\n",
       "</style>\n",
       "<table border=\"1\" class=\"dataframe\">\n",
       "  <thead>\n",
       "    <tr style=\"text-align: right;\">\n",
       "      <th></th>\n",
       "      <th>Name</th>\n",
       "      <th>Age</th>\n",
       "      <th>Sec</th>\n",
       "      <th>Roll_no</th>\n",
       "      <th>Class</th>\n",
       "    </tr>\n",
       "  </thead>\n",
       "  <tbody>\n",
       "    <tr>\n",
       "      <th>1</th>\n",
       "      <td>karan</td>\n",
       "      <td>20</td>\n",
       "      <td>A</td>\n",
       "      <td>12</td>\n",
       "      <td>12</td>\n",
       "    </tr>\n",
       "  </tbody>\n",
       "</table>\n",
       "</div>"
      ],
      "text/plain": [
       "    Name  Age Sec  Roll_no  Class\n",
       "1  karan   20   A       12     12"
      ]
     },
     "metadata": {},
     "output_type": "display_data"
    },
    {
     "data": {
      "text/html": [
       "<div>\n",
       "<style scoped>\n",
       "    .dataframe tbody tr th:only-of-type {\n",
       "        vertical-align: middle;\n",
       "    }\n",
       "\n",
       "    .dataframe tbody tr th {\n",
       "        vertical-align: top;\n",
       "    }\n",
       "\n",
       "    .dataframe thead th {\n",
       "        text-align: right;\n",
       "    }\n",
       "</style>\n",
       "<table border=\"1\" class=\"dataframe\">\n",
       "  <thead>\n",
       "    <tr style=\"text-align: right;\">\n",
       "      <th></th>\n",
       "      <th>Name</th>\n",
       "      <th>Age</th>\n",
       "      <th>Sec</th>\n",
       "      <th>Roll_no</th>\n",
       "      <th>Class</th>\n",
       "    </tr>\n",
       "  </thead>\n",
       "  <tbody>\n",
       "    <tr>\n",
       "      <th>1</th>\n",
       "      <td>karan</td>\n",
       "      <td>20</td>\n",
       "      <td>A</td>\n",
       "      <td>12</td>\n",
       "      <td>12</td>\n",
       "    </tr>\n",
       "  </tbody>\n",
       "</table>\n",
       "</div>"
      ],
      "text/plain": [
       "    Name  Age Sec  Roll_no  Class\n",
       "1  karan   20   A       12     12"
      ]
     },
     "metadata": {},
     "output_type": "display_data"
    },
    {
     "data": {
      "text/html": [
       "<div>\n",
       "<style scoped>\n",
       "    .dataframe tbody tr th:only-of-type {\n",
       "        vertical-align: middle;\n",
       "    }\n",
       "\n",
       "    .dataframe tbody tr th {\n",
       "        vertical-align: top;\n",
       "    }\n",
       "\n",
       "    .dataframe thead th {\n",
       "        text-align: right;\n",
       "    }\n",
       "</style>\n",
       "<table border=\"1\" class=\"dataframe\">\n",
       "  <thead>\n",
       "    <tr style=\"text-align: right;\">\n",
       "      <th></th>\n",
       "      <th>Name</th>\n",
       "      <th>Age</th>\n",
       "      <th>Sec</th>\n",
       "      <th>Roll_no</th>\n",
       "      <th>Class</th>\n",
       "    </tr>\n",
       "  </thead>\n",
       "  <tbody>\n",
       "    <tr>\n",
       "      <th>1</th>\n",
       "      <td>karan</td>\n",
       "      <td>20</td>\n",
       "      <td>A</td>\n",
       "      <td>12</td>\n",
       "      <td>12</td>\n",
       "    </tr>\n",
       "  </tbody>\n",
       "</table>\n",
       "</div>"
      ],
      "text/plain": [
       "    Name  Age Sec  Roll_no  Class\n",
       "1  karan   20   A       12     12"
      ]
     },
     "metadata": {},
     "output_type": "display_data"
    }
   ],
   "source": [
    "def store_records(name,age,sec,roll_no,Class):\n",
    "    data={'Name':name,'Age':age,'Sec':sec,'Roll_no':roll_no,'Class':Class}\n",
    "    import pandas as pd\n",
    "    result=pd.DataFrame(data,index=[1])\n",
    "    return result\n",
    "display(store_records('karan',20,'A',12,12))\n",
    "display(store_records('karan',20,'A',12,12))\n",
    "display(store_records('karan',20,'A',12,12))\n",
    "    \n",
    "    "
   ]
  },
  {
   "cell_type": "code",
   "execution_count": 61,
   "id": "07db3b16-265b-4870-a290-89a081a289b5",
   "metadata": {},
   "outputs": [
    {
     "data": {
      "text/html": [
       "<div>\n",
       "<style scoped>\n",
       "    .dataframe tbody tr th:only-of-type {\n",
       "        vertical-align: middle;\n",
       "    }\n",
       "\n",
       "    .dataframe tbody tr th {\n",
       "        vertical-align: top;\n",
       "    }\n",
       "\n",
       "    .dataframe thead th {\n",
       "        text-align: right;\n",
       "    }\n",
       "</style>\n",
       "<table border=\"1\" class=\"dataframe\">\n",
       "  <thead>\n",
       "    <tr style=\"text-align: right;\">\n",
       "      <th></th>\n",
       "      <th>name</th>\n",
       "      <th>age</th>\n",
       "      <th>sec</th>\n",
       "      <th>rollno</th>\n",
       "      <th>address</th>\n",
       "    </tr>\n",
       "  </thead>\n",
       "  <tbody>\n",
       "    <tr>\n",
       "      <th>1</th>\n",
       "      <td>dhruv</td>\n",
       "      <td>20</td>\n",
       "      <td>m1</td>\n",
       "      <td>12</td>\n",
       "      <td>delhi</td>\n",
       "    </tr>\n",
       "  </tbody>\n",
       "</table>\n",
       "</div>"
      ],
      "text/plain": [
       "    name  age sec  rollno address\n",
       "1  dhruv   20  m1      12   delhi"
      ]
     },
     "execution_count": 61,
     "metadata": {},
     "output_type": "execute_result"
    }
   ],
   "source": [
    "def student_record(**kwargs):\n",
    "    print(kwargs)\n",
    "    keys=list(kwargs)\n",
    "  if type(keys[0])==str:\n",
    "    \n",
    "    import pandas as pd\n",
    "    result=pd.DataFrame(kwargs,index=[1])\n",
    "    return result\n",
    "  else\n",
    "     result=pd.DataFrame(kwargs)\n",
    "    return result \n",
    "student_record(name='dhruv',age=20,sec='m1',rollno=12,address='delhi')"
   ]
  },
  {
   "cell_type": "code",
   "execution_count": null,
   "id": "35f335bb-573c-4073-a022-0d3cd4507761",
   "metadata": {},
   "outputs": [],
   "source": []
  }
 ],
 "metadata": {
  "kernelspec": {
   "display_name": "Python [conda env:base] *",
   "language": "python",
   "name": "conda-base-py"
  },
  "language_info": {
   "codemirror_mode": {
    "name": "ipython",
    "version": 3
   },
   "file_extension": ".py",
   "mimetype": "text/x-python",
   "name": "python",
   "nbconvert_exporter": "python",
   "pygments_lexer": "ipython3",
   "version": "3.13.5"
  }
 },
 "nbformat": 4,
 "nbformat_minor": 5
}
