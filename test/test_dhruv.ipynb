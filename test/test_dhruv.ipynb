{
  "nbformat": 4,
  "nbformat_minor": 0,
  "metadata": {
    "colab": {
      "provenance": []
    },
    "kernelspec": {
      "name": "python3",
      "display_name": "Python 3"
    },
    "language_info": {
      "name": "python"
    }
  },
  "cells": [
    {
      "cell_type": "code",
      "execution_count": 1,
      "metadata": {
        "colab": {
          "base_uri": "https://localhost:8080/"
        },
        "id": "o00nBBhsiyuX",
        "outputId": "7e1e6d1c-73c8-4dbf-fbcf-68a5be944cec"
      },
      "outputs": [
        {
          "output_type": "stream",
          "name": "stdout",
          "text": [
            "[1, 2, 3, 4]\n",
            "(1, 2, 3, 4)\n"
          ]
        }
      ],
      "source": [
        "# 1\n",
        "# ans:list is mutable object and tuple is immutable object\n",
        "#list is created through the '[]' and tuple is created through the'()'\n",
        "#ex:\n",
        "list=[1,2,3,4]\n",
        "tuple=(1,2,3,4)\n",
        "print(list)\n",
        "print(tuple)\n"
      ]
    },
    {
      "cell_type": "code",
      "source": [
        "\n",
        "#ans2: input function is used to take input from the user\n",
        "#input function returns string datatype\n",
        "#for converting string into int datatype we should use 'int()' function\n",
        "#\n",
        "a=input(\"enter a number\")\n",
        "print(type(a))\n",
        "b=int(a)\n",
        "print(type(b))"
      ],
      "metadata": {
        "colab": {
          "base_uri": "https://localhost:8080/"
        },
        "id": "yzM7PtpslaT9",
        "outputId": "3f710765-0e97-4ca6-da91-4d4fdf223485"
      },
      "execution_count": 3,
      "outputs": [
        {
          "output_type": "stream",
          "name": "stdout",
          "text": [
            "enter a number2\n",
            "<class 'str'>\n",
            "<class 'int'>\n"
          ]
        }
      ]
    },
    {
      "cell_type": "code",
      "source": [
        "\n",
        "#ans3 dictionary is key:value pair created through'{}' nad it is a unoredered collection of elements and it is mutable\n",
        "#ex:\n",
        "mydict = {\"key1\": \"value1\",\"key2\": 123,\"key3\": [1, 2, 3]}\n",
        "print(mydict)"
      ],
      "metadata": {
        "id": "Nu4sDsYdmMZz"
      },
      "execution_count": null,
      "outputs": []
    },
    {
      "cell_type": "code",
      "source": [
        "\n",
        "#ans4: loop is used to iterate over a sequence of elements.it repeatedly executes a block of code\n",
        "for i in range(1, 6):\n",
        "  print(i)\n"
      ],
      "metadata": {
        "colab": {
          "base_uri": "https://localhost:8080/"
        },
        "id": "6nMjy1ponBIw",
        "outputId": "998bfbf0-7a9a-4c12-bfa3-4546771c4eca"
      },
      "execution_count": 5,
      "outputs": [
        {
          "output_type": "stream",
          "name": "stdout",
          "text": [
            "1\n",
            "2\n",
            "3\n",
            "4\n",
            "5\n"
          ]
        }
      ]
    },
    {
      "cell_type": "code",
      "source": [
        "#5\n",
        "# ans:exception handling is used to handle errors that occur during the execution of a program.\n",
        "#try contains the code that can have an exception in it\n",
        "#except:this module is executed when an exception occurs\n",
        "#finally: this block is optiopnal and runs regardlessly there is an exception or not\n",
        "#\n",
        "try:\n",
        "\n",
        "  result = 10 / 0\n",
        "  print(result)\n",
        "except ZeroDivisionError:\n",
        "\n",
        "  print(\"Cannot divide by zero\")\n",
        "finally:\n",
        "\n",
        "  print(\" finally block.\")\n",
        "\n",
        "print(\" exception handled.\")"
      ],
      "metadata": {
        "colab": {
          "base_uri": "https://localhost:8080/"
        },
        "id": "PuuKZTetnew3",
        "outputId": "c3d57798-d0ea-452c-823e-780e28a05279"
      },
      "execution_count": 6,
      "outputs": [
        {
          "output_type": "stream",
          "name": "stdout",
          "text": [
            "Cannot divide by zero\n",
            " finally block.\n",
            " exception handled.\n"
          ]
        }
      ]
    },
    {
      "cell_type": "code",
      "source": [
        "#6\n",
        "#python modules are a collection of function which created in a different file and can used adfterward by importing them these are user created modules\n",
        "#inbuilt modules which is some function and can run directly through importing ex: import math\n",
        "#import math import entire math liberary through which we can use any mathematical function\n",
        "#from math import srt means we ar eusing a sqrt dunction from math module by accessiong through 'math.sqrt()'\n",
        "#ex:\n",
        "import math\n",
        "\n",
        "# Using the sqrt function from the math module\n",
        "square_root = math.sqrt(25)\n",
        "print(f\"The square root of 25 is: {square_root}\")\n",
        "\n",
        "\n"
      ],
      "metadata": {
        "colab": {
          "base_uri": "https://localhost:8080/"
        },
        "id": "zrH2eGcEoxxK",
        "outputId": "adef7440-c28e-4474-a0a6-38e26091b453"
      },
      "execution_count": 7,
      "outputs": [
        {
          "output_type": "stream",
          "name": "stdout",
          "text": [
            "The square root of 25 is: 5.0\n"
          ]
        }
      ]
    },
    {
      "cell_type": "code",
      "source": [
        "# 7\n",
        "#object oriented programming is used to organize code with classes and objects\n",
        "#a class is a blueprint or any realworld entity\n",
        "#object is a instance of a class\n",
        "\n",
        "#ex:# Define a class named 'Dog'\n",
        "class Dog:\n",
        "    def __init__(self, name, breed):\n",
        "        self.name = name\n",
        "        self.breed = breed\n",
        "    def bark(self):\n",
        "        print(f\"{self.name} says Woof!\")\n",
        "my_dog = Dog(\"Buddy\", \"pug\")\n",
        "print(f\"My dog's name is {my_dog.name} and the breed is {my_dog.breed}\")\n",
        "my_dog.bark()\n",
        "another_dog = Dog(\"tommy\", \"sheru\")\n",
        "another_dog.bark()\n",
        "\n",
        "\n"
      ],
      "metadata": {
        "id": "0Ml7Ocrmqdem"
      },
      "execution_count": 8,
      "outputs": []
    },
    {
      "cell_type": "code",
      "source": [
        "#8\n",
        "#list comprehenssion is a concise way to create a list.\n",
        "#we can create a list of list through this\n",
        "# ex:\n",
        "\n",
        "result = []\n",
        "for x in range(10):\n",
        "     if x % 2 == 0:\n",
        "         result.append(x * 2)\n",
        "\n",
        "# Rewritten code using list comprehension\n",
        "result_comprehension = [x * 2 for x in range(10) if x % 2 == 0]\n",
        "\n",
        "print(result_comprehension)"
      ],
      "metadata": {
        "colab": {
          "base_uri": "https://localhost:8080/"
        },
        "id": "zdsE3F9YrKEm",
        "outputId": "d8054dca-9f0e-4df5-9588-673367134b79"
      },
      "execution_count": 10,
      "outputs": [
        {
          "output_type": "stream",
          "name": "stdout",
          "text": [
            "[0, 4, 8, 12, 16]\n"
          ]
        }
      ]
    },
    {
      "cell_type": "code",
      "source": [
        "#9\n",
        "import math\n",
        "def cal_area(radius):\n",
        "  if radius < 0:\n",
        "    return \"Radius cannot be negative\"\n",
        "  else:\n",
        "    cal_area = math.pi * (radius ** 2)\n",
        "    return cal_area\n",
        "radius = 5\n",
        "ar_circle = cal_area(radius)\n",
        "print(f\"The area of a circle with radius {radius} is: {ar_circle}\")"
      ],
      "metadata": {
        "colab": {
          "base_uri": "https://localhost:8080/"
        },
        "id": "1Jlpa-TstOcD",
        "outputId": "33a6820e-e47d-4451-ef04-2e755c9a7f94"
      },
      "execution_count": 17,
      "outputs": [
        {
          "output_type": "stream",
          "name": "stdout",
          "text": [
            "The area of a circle with radius 5 is: 78.53981633974483\n"
          ]
        }
      ]
    },
    {
      "cell_type": "code",
      "source": [
        "#10\n",
        "#ans:\n",
        "\n",
        "name = input(\"Enter your name: \")\n",
        "age = input(\"Enter your age: \")\n",
        "print(f\"Hello {name}, you are {age} years old!\")"
      ],
      "metadata": {
        "colab": {
          "base_uri": "https://localhost:8080/"
        },
        "id": "VmkcHoFwt-QQ",
        "outputId": "53c1bc0b-32e9-4acb-900d-90ee2d4dad1b"
      },
      "execution_count": 18,
      "outputs": [
        {
          "output_type": "stream",
          "name": "stdout",
          "text": [
            "Enter your name: dghruc\n",
            "Enter your age: 34\n",
            "Hello dghruc, you are 34 years old!\n"
          ]
        }
      ]
    },
    {
      "cell_type": "code",
      "source": [
        "#11\n",
        "# Create a list of 5 fruits\n",
        "fruits = [\"apple\", \"banana\", \"cherry\", \"date\", \"elderberry\"]\n",
        "for index, fruit in enumerate(fruits):\n",
        "  position = index + 1\n",
        "  print(f\"Position {position}: {fruit}\")"
      ],
      "metadata": {
        "colab": {
          "base_uri": "https://localhost:8080/"
        },
        "id": "0lIi08KuuyXp",
        "outputId": "0a2d7db6-fd66-4763-c6ce-f6cfd6d234d0"
      },
      "execution_count": 19,
      "outputs": [
        {
          "output_type": "stream",
          "name": "stdout",
          "text": [
            "Position 1: apple\n",
            "Position 2: banana\n",
            "Position 3: cherry\n",
            "Position 4: date\n",
            "Position 5: elderberry\n"
          ]
        }
      ]
    },
    {
      "cell_type": "code",
      "source": [
        "#12\n",
        "# ans\n",
        "def grade_cal(score):\n",
        "  if 90 <= score <= 100:\n",
        "    return \"A\"\n",
        "  elif 80 <= score <= 89:\n",
        "    return \"B\"\n",
        "  elif 70 <= score <= 79:\n",
        "    return \"C\"\n",
        "  elif 60 <= score <= 69:\n",
        "    return \"D\"\n",
        "  elif 0 <= score < 60:\n",
        "    return \"F\"\n",
        "  else:\n",
        "    return \"Invalid score\"\n",
        "score1 = 95\n",
        "score2 = 82\n",
        "score3 = 70\n",
        "score4 = 55\n",
        "score5 = 105\n",
        "print(f\"A score of {score1} gets a grade of: {grade_cal(score1)}\")\n",
        "print(f\"A score of {score2} gets a grade of: {grade_cal(score2)}\")\n",
        "print(f\"A score of {score3} gets a grade of: {grade_cal(score3)}\")\n"
      ],
      "metadata": {
        "id": "C_s-3a1avGP-"
      },
      "execution_count": null,
      "outputs": []
    },
    {
      "cell_type": "code",
      "source": [
        "#13"
      ],
      "metadata": {
        "id": "vG7_Xomkyr8_"
      },
      "execution_count": null,
      "outputs": []
    },
    {
      "cell_type": "code",
      "source": [
        "#14\n",
        "class BankAccount:\n",
        "    def __init__(self, name, balance=0):\n",
        "        self.name = name\n",
        "        self.balance = balance\n",
        "        print(f\"Account for {self.name} created with ${self.balance:}\")\n",
        "\n",
        "    def deposit(self, amount):\n",
        "        if amount > 0:\n",
        "            self.balance += amount\n",
        "            print(f\"Deposited ${amount:}. Balance: ${self.balance:}\")\n",
        "        else:\n",
        "            print(\"Deposit > 0.\")\n",
        "\n",
        "    def withdraw(self, amount):\n",
        "        if amount > 0:\n",
        "            if self.balance >= amount:\n",
        "                self.balance -= amount\n",
        "                print(f\"Withdrew ${amount:}. Balance: ${self.balance:}\")\n",
        "            else:\n",
        "                print(\"Insufficient balance.\")\n",
        "        else:\n",
        "            print(\"Withdrawal > 0.\")\n",
        "\n",
        "    def curr_balance(self):\n",
        "        print(f\"Balance for {self.name}: ${self.balance:}\")\n",
        "account = BankAccount(\"Bob\", 500)\n",
        "account.deposit(300)\n",
        "account.withdraw(100)\n",
        "account.curr_balance()"
      ],
      "metadata": {
        "id": "hjwTUSD7v9Sc"
      },
      "execution_count": null,
      "outputs": []
    },
    {
      "cell_type": "code",
      "metadata": {
        "colab": {
          "base_uri": "https://localhost:8080/"
        },
        "id": "1481a54e",
        "outputId": "29548b3b-121e-4b07-fd21-4a298765bc8e"
      },
      "source": [
        "#15\n",
        "#ans\n",
        "def is_prime_basic(num):\n",
        "  \"\"\"Checks if a number is prime (basic version).\"\"\"\n",
        "  if num <= 1:\n",
        "    return False\n",
        "  for i in range(2, num):\n",
        "    if num % i == 0:\n",
        "      return False\n",
        "  return True\n",
        "\n",
        "prime_numbers_basic = []\n",
        "for number in range(2, 51):\n",
        "  if is_prime_basic(number):\n",
        "    prime_numbers_basic.append(number)\n",
        "\n",
        "print(\"Prime numbers between 1 and 50:\")\n",
        "print(prime_numbers_basic)"
      ],
      "execution_count": 20,
      "outputs": [
        {
          "output_type": "stream",
          "name": "stdout",
          "text": [
            "Prime numbers between 1 and 50:\n",
            "[2, 3, 5, 7, 11, 13, 17, 19, 23, 29, 31, 37, 41, 43, 47]\n"
          ]
        }
      ]
    }
  ]
}